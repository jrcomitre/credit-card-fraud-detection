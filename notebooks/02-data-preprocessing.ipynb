{
 "cells": [
  {
   "cell_type": "markdown",
   "id": "7cef0262",
   "metadata": {},
   "source": [
    "### Pré-processamento dos Dados"
   ]
  },
  {
   "cell_type": "code",
   "execution_count": 2,
   "id": "bcc33530",
   "metadata": {},
   "outputs": [],
   "source": [
    "# Importando bibliotecas\n",
    "import pandas as pd\n",
    "import numpy as np\n",
    "from sklearn.preprocessing import StandardScaler\n",
    "from sklearn.model_selection import train_test_split\n",
    "from imblearn.over_sampling import SMOTE"
   ]
  },
  {
   "cell_type": "code",
   "execution_count": 3,
   "id": "2f01cb7b",
   "metadata": {},
   "outputs": [
    {
     "name": "stdout",
     "output_type": "stream",
     "text": [
      "Formato original: (284807, 31)\n"
     ]
    }
   ],
   "source": [
    "# Carregando o dataset\n",
    "df = pd.read_csv('../data/creditcard.csv')\n",
    "print(\"Formato original:\", df.shape)"
   ]
  },
  {
   "cell_type": "code",
   "execution_count": 4,
   "id": "8a118457",
   "metadata": {},
   "outputs": [],
   "source": [
    "# Normalização das colunas 'Time' e 'Amount'\n",
    "scaler = StandardScaler()\n",
    "df['Time_scaled'] = scaler.fit_transform(df[['Time']])\n",
    "df['Amount_scaled'] = scaler.fit_transform(df[['Amount']])"
   ]
  },
  {
   "cell_type": "code",
   "execution_count": 5,
   "id": "9fe62459",
   "metadata": {},
   "outputs": [],
   "source": [
    "# Removendo colunas originais não escaladas\n",
    "df.drop(['Time', 'Amount'], axis=1, inplace=True)"
   ]
  },
  {
   "cell_type": "code",
   "execution_count": 6,
   "id": "02e985a1",
   "metadata": {},
   "outputs": [],
   "source": [
    "# Separando features (X) e target (y)\n",
    "X = df.drop('Class', axis=1)\n",
    "y = df['Class']"
   ]
  },
  {
   "cell_type": "code",
   "execution_count": 7,
   "id": "7d535a51",
   "metadata": {},
   "outputs": [],
   "source": [
    "# Separação entre treino e teste\n",
    "X_train, X_test, y_train, y_test = train_test_split(\n",
    "    X, y, test_size=0.2, stratify=y, random_state=42\n",
    ")"
   ]
  },
  {
   "cell_type": "code",
   "execution_count": 8,
   "id": "e497be3c",
   "metadata": {},
   "outputs": [
    {
     "name": "stdout",
     "output_type": "stream",
     "text": [
      "Treino: (227845, 30) Teste: (56962, 30)\n"
     ]
    }
   ],
   "source": [
    "print(\"Treino:\", X_train.shape, \"Teste:\", X_test.shape)"
   ]
  },
  {
   "cell_type": "code",
   "execution_count": 9,
   "id": "5985318f",
   "metadata": {},
   "outputs": [],
   "source": [
    "# Aplicando SMOTE no conjunto de treino para balancear as classes\n",
    "smote = SMOTE(random_state=42)\n",
    "X_train_res, y_train_res = smote.fit_resample(X_train, y_train)"
   ]
  },
  {
   "cell_type": "code",
   "execution_count": 10,
   "id": "12a5bdc9",
   "metadata": {},
   "outputs": [
    {
     "name": "stdout",
     "output_type": "stream",
     "text": [
      "Distribuição antes do SMOTE:\n",
      "Class\n",
      "0    227451\n",
      "1       394\n",
      "Name: count, dtype: int64\n",
      "\n",
      "Distribuição após SMOTE:\n",
      "Class\n",
      "0    227451\n",
      "1    227451\n",
      "Name: count, dtype: int64\n"
     ]
    }
   ],
   "source": [
    "# Verificando balanceamento após SMOTE\n",
    "print(\"Distribuição antes do SMOTE:\")\n",
    "print(y_train.value_counts())\n",
    "print(\"\\nDistribuição após SMOTE:\")\n",
    "print(pd.Series(y_train_res).value_counts())"
   ]
  },
  {
   "cell_type": "code",
   "execution_count": null,
   "id": "3ba3083f",
   "metadata": {},
   "outputs": [],
   "source": [
    "# Salvando os dados prontos (opcional)\n",
    "# X_train_res.to_csv('../data/X_train_resampled.csv', index=False)\n",
    "# y_train_res.to_csv('../data/y_train_resampled.csv', index=False)"
   ]
  },
  {
   "cell_type": "code",
   "execution_count": null,
   "id": "7955d261",
   "metadata": {},
   "outputs": [],
   "source": []
  }
 ],
 "metadata": {
  "kernelspec": {
   "display_name": "base",
   "language": "python",
   "name": "python3"
  },
  "language_info": {
   "codemirror_mode": {
    "name": "ipython",
    "version": 3
   },
   "file_extension": ".py",
   "mimetype": "text/x-python",
   "name": "python",
   "nbconvert_exporter": "python",
   "pygments_lexer": "ipython3",
   "version": "3.12.7"
  }
 },
 "nbformat": 4,
 "nbformat_minor": 5
}
